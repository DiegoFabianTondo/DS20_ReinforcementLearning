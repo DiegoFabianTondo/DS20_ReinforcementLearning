{
  "nbformat": 4,
  "nbformat_minor": 0,
  "metadata": {
    "celltoolbar": "Edit Metadata",
    "colab": {
      "name": "lab_1_rl_DiegoTondo.ipynb",
      "provenance": [],
      "collapsed_sections": []
    },
    "kernelspec": {
      "display_name": "Python 3",
      "language": "python",
      "name": "python3"
    },
    "language_info": {
      "codemirror_mode": {
        "name": "ipython",
        "version": 3
      },
      "file_extension": ".py",
      "mimetype": "text/x-python",
      "name": "python",
      "nbconvert_exporter": "python",
      "pygments_lexer": "ipython3",
      "version": "3.7.7"
    }
  },
  "cells": [
    {
      "cell_type": "markdown",
      "metadata": {
        "id": "view-in-github"
      },
      "source": [
        "<a href=\"https://colab.research.google.com/github/DiploDatos/AprendizajePorRefuerzos/blob/master/lab_1_intro_rl.ipynb\" target=\"_parent\"><img src=\"https://colab.research.google.com/assets/colab-badge.svg\" alt=\"Open In Colab\"/></a>"
      ]
    },
    {
      "cell_type": "markdown",
      "metadata": {
        "id": "4spynKMzGS4t"
      },
      "source": [
        "# LAB 1: Introducción al aprendizaje por refuerzos\n",
        "@Diego Tondo\n",
        "\n",
        "Curso Aprendizaje por Refuerzos, Diplomatura en Ciencia de Datos, Aprendizaje Automático y sus Aplicaciones\n",
        "\n",
        "FaMAF, 2021"
      ]
    },
    {
      "cell_type": "code",
      "metadata": {
        "hideCode": true,
        "id": "5jUjOuhYGS42",
        "tags": [
          "hide-cell"
        ],
        "cellView": "form"
      },
      "source": [
        "#@title Código básico de graficación (no modificar)\n",
        "\n",
        "import numpy as np\n",
        "import matplotlib.pyplot as plt\n",
        "import itertools\n",
        "import gym\n",
        "\n",
        "def plot_reward_per_episode(reward_ep):\n",
        "\n",
        "    episode_rewards = np.array(reward_ep)\n",
        "\n",
        "    # se suaviza la curva de convergencia\n",
        "    episode_number = np.linspace(1, len(episode_rewards) + 1, len(episode_rewards) + 1)\n",
        "    acumulated_rewards = np.cumsum(episode_rewards)\n",
        "\n",
        "    reward_per_episode = [acumulated_rewards[i] / episode_number[i] for i in range(len(acumulated_rewards))]\n",
        "\n",
        "    plt.plot(reward_per_episode)\n",
        "    plt.title('Recompensa acumulada por episodio')\n",
        "    plt.show()\n",
        "    \n",
        "    \n",
        "def plot_steps_per_episode(timesteps_ep):\n",
        "    # se muestra la curva de aprendizaje de los pasos por episodio\n",
        "    episode_steps = np.array(timesteps_ep)\n",
        "    plt.plot(np.array(range(0, len(episode_steps))), episode_steps)\n",
        "    plt.title('Pasos (timesteps) por episodio')\n",
        "    plt.show()\n",
        "    \n",
        "    \n",
        "def plot_steps_per_episode_smooth(timesteps_ep):\n",
        "    episode_steps = np.array(timesteps_ep)\n",
        "\n",
        "    # se suaviza la curva de aprendizaje\n",
        "    episode_number = np.linspace(1, len(episode_steps) + 1, len(episode_steps) + 1)\n",
        "    acumulated_steps = np.cumsum(episode_steps)\n",
        "\n",
        "    steps_per_episode = [acumulated_steps[i] / episode_number[i] for i in range(len(acumulated_steps))]\n",
        "\n",
        "    plt.plot(steps_per_episode)\n",
        "    plt.title('Pasos (timesteps) acumulados por episodio')\n",
        "    plt.show()\n",
        "    \n",
        "\n",
        "def draw_value_matrix(q):\n",
        "\n",
        "    n_rows = 4\n",
        "    n_columns = 12\n",
        "    n_actions = 4\n",
        "\n",
        "    # se procede con los cálculos previos a la graficación de la matriz de valor\n",
        "    q_value_matrix = np.empty((n_rows, n_columns))\n",
        "    for row in range(n_rows):\n",
        "        for column in range(n_columns):\n",
        "\n",
        "            state_values = []\n",
        "\n",
        "            for action in range(n_actions):\n",
        "                state_values.append(q.get((row * n_columns + column, action), -100))\n",
        "\n",
        "            maximum_value = max(state_values)  # determinamos la acción que arroja máximo valor\n",
        "\n",
        "\n",
        "            q_value_matrix[row, column] = maximum_value\n",
        "\n",
        "    # el valor del estado objetivo se asigna en -1 (reward recibido al llegar) para que se coloree de forma apropiada\n",
        "    q_value_matrix[3, 11] = -1\n",
        "\n",
        "    # se grafica la matriz de valor\n",
        "    plt.imshow(q_value_matrix, cmap=plt.cm.RdYlGn)\n",
        "    plt.tight_layout()\n",
        "    plt.colorbar()\n",
        "\n",
        "    for row, column in itertools.product(range(q_value_matrix.shape[0]), range(q_value_matrix.shape[1])):\n",
        "\n",
        "        left_action = q.get((row * n_columns + column, 3), -1000)\n",
        "        down_action = q.get((row * n_columns + column, 2), -1000)\n",
        "        right_action = q.get((row * n_columns + column, 1), -1000)\n",
        "        up_action = q.get((row * n_columns + column, 0), -1000)\n",
        "\n",
        "        arrow_direction = 'D'\n",
        "        best_action = down_action\n",
        "\n",
        "        if best_action < right_action:\n",
        "            arrow_direction = 'R'\n",
        "            best_action = right_action\n",
        "        if best_action < left_action:\n",
        "            arrow_direction = 'L'\n",
        "            best_action = left_action\n",
        "        if best_action < up_action:\n",
        "            arrow_direction = 'U'\n",
        "            best_action = up_action\n",
        "        if best_action == -1:\n",
        "            arrow_direction = ''\n",
        "\n",
        "        # notar que column, row están invertidos en orden en la línea de abajo porque representan a x,y del plot\n",
        "        plt.text(column, row, arrow_direction, horizontalalignment=\"center\")\n",
        "\n",
        "    plt.xticks([])\n",
        "    plt.yticks([])\n",
        "    plt.show()\n",
        "\n",
        "    print('\\n Matriz de mejor acción-valor (en números): \\n\\n', q_value_matrix)"
      ],
      "execution_count": 1,
      "outputs": []
    },
    {
      "cell_type": "markdown",
      "metadata": {
        "id": "P6bNIHCQGS44"
      },
      "source": [
        "![](https://github.com/GIDISIA/RLDiplodatos/blob/master/images/cliffwalking.png?raw=1)\n",
        "\n",
        "donde S= starting point, G= goal\n",
        "\n",
        "(imagen de Sutton y Barto, 2018)"
      ]
    },
    {
      "cell_type": "markdown",
      "metadata": {
        "id": "VYvKmWcsGS44"
      },
      "source": [
        "Descripción del entorno:\n",
        "\n",
        "Acciones:\n",
        "\n",
        "* $\\uparrow$ - Arriba\n",
        "* $\\downarrow$ - Abajo\n",
        "* $\\rightarrow$ - Derecha\n",
        "* $\\leftarrow$ - Izquierda\n",
        "\n",
        "Función de recompensa:\n",
        "\n",
        "* $-1$ en todos los demás estados \n",
        "* $-100$ en el acantilado\n",
        "\n",
        "Nota: caer en el acantilado devuelve al agente al estado inicial en un mismo episodio"
      ]
    },
    {
      "cell_type": "markdown",
      "metadata": {
        "id": "XZ2D3hokGS44"
      },
      "source": [
        "# ACTIVIDADES\n",
        "\n",
        "## 1. Implementar y ejecutar el algoritmo SARSA en \"The Cliff\".\n",
        "\n"
      ]
    },
    {
      "cell_type": "code",
      "metadata": {
        "id": "T8XHFSZiGS44"
      },
      "source": [
        "def choose_action_greedy(state):\n",
        "    \"\"\"\n",
        "    Chooses an action according to the learning previously performed \n",
        "    using an epsilon-greedy exploration policy\n",
        "    \"\"\"\n",
        "    q_values = [q.get((state, a), 0.0) for a in actions]\n",
        "    max_q = max(q_values)\n",
        "\n",
        "    if random_state.uniform() < epsilon:\n",
        "        return random_state.choice(actions)  # a random action is selected\n",
        "\n",
        "    count = q_values.count(max_q)\n",
        "\n",
        "    # In case there're several state-action max values\n",
        "    # we select a random one among them\n",
        "    if count > 1:\n",
        "        best = [i for i in range(len(actions)) if q_values[i] == max_q]\n",
        "        i = random_state.choice(best)\n",
        "    else:\n",
        "        i = q_values.index(max_q)\n",
        "\n",
        "    return actions[i]"
      ],
      "execution_count": 72,
      "outputs": []
    },
    {
      "cell_type": "markdown",
      "metadata": {
        "id": "fH6yG3UNGS45"
      },
      "source": [
        "Definimos el esqueleto del método learn, el cuál toma una transición y cambia el dict de los valores de Q de acuerdo a algún algoritmo."
      ]
    },
    {
      "cell_type": "code",
      "metadata": {
        "id": "5RgIJcbGGS45"
      },
      "source": [
        "def learn_sarsa(state, action, reward, next_state, next_action):\n",
        "    \"\"\"\n",
        "    Performs a SARSA update for a given state transition\n",
        "    \"\"\"\n",
        "    \n",
        "    q[state, action] = q.get((state, action), 0.0) + alpha*((reward + gamma*(q.get((next_state, next_action), 0.0)) - q.get((state, action), 0.0)))\n",
        "    \n",
        "    pass"
      ],
      "execution_count": 73,
      "outputs": []
    },
    {
      "cell_type": "markdown",
      "metadata": {
        "id": "9xrOq-6jGS45"
      },
      "source": [
        "Finalmente, definimos el método principal de iteraciones. "
      ]
    },
    {
      "cell_type": "code",
      "metadata": {
        "id": "EatmEq8XGS45"
      },
      "source": [
        "def run_sarsa():\n",
        "    \"\"\"\n",
        "    Runs the reinforcement learning agent with a given configuration.\n",
        "    \"\"\"\n",
        "    # list that contains the amount of time-steps of the episode. It is used as a way to score the performance of\n",
        "    # the agent.\n",
        "    timesteps_of_episode = []\n",
        "    # list that contains the amount of reward given to the agent in each episode\n",
        "    reward_of_episode = []\n",
        "\n",
        "    for i_episode in range(episodes_to_run):\n",
        "        # an instance of an episode is run until it fails or until it reaches 200 time-steps\n",
        "\n",
        "        # resets the environment, obtaining the first state observation\n",
        "        state = env.reset()\n",
        "\n",
        "        episode_reward = 0\n",
        "        done = False\n",
        "        t = 0\n",
        "\n",
        "        # Pick an action based on the current state\n",
        "        action = choose_action_greedy(state)\n",
        "        \n",
        "        while not done:\n",
        "\n",
        "            # Execute the action and get feedback\n",
        "            next_state, reward, done, info = env.step(action)\n",
        "            \n",
        "            next_action = choose_action_greedy(next_state)\n",
        "\n",
        "            episode_reward += reward\n",
        "\n",
        "            if not done and t < 2000:  # if the algorithm does not converge, it stops after 2000 timesteps\n",
        "                learn_sarsa(state, action, reward, next_state, next_action)\n",
        "                state = next_state\n",
        "                action = next_action\n",
        "            else:\n",
        "                done = True  # done is ensured to be True (in the case the algorithm did not reach convergence)\n",
        "                learn_sarsa(state, action, reward, next_state, next_action)\n",
        "                timesteps_of_episode = np.append(timesteps_of_episode, [int(t + 1)])\n",
        "                reward_of_episode = np.append(reward_of_episode, max(episode_reward, -100))\n",
        "\n",
        "            t += 1\n",
        "\n",
        "    return reward_of_episode.mean(), timesteps_of_episode, reward_of_episode"
      ],
      "execution_count": 74,
      "outputs": []
    },
    {
      "cell_type": "markdown",
      "metadata": {
        "id": "YQqcI9RTGS46"
      },
      "source": [
        "Definidos los métodos básicos, procedemos a instanciar a nuestro agente."
      ]
    },
    {
      "cell_type": "code",
      "metadata": {
        "id": "JWE7qhNvGS46"
      },
      "source": [
        "q = {}\n",
        "\n",
        "# definimos sus híper-parámetros básicos\n",
        "\n",
        "alpha = 0.5\n",
        "gamma = 1\n",
        "epsilon = 0.1\n",
        "tau = 25\n",
        "\n",
        "episodes_to_run = 500\n",
        "\n",
        "env = gym.make(\"CliffWalking-v0\")\n",
        "actions = range(env.action_space.n)\n",
        "\n",
        "# se declara una semilla aleatoria\n",
        "random_state = np.random.RandomState(42)"
      ],
      "execution_count": 75,
      "outputs": []
    },
    {
      "cell_type": "markdown",
      "metadata": {
        "id": "3nBgpEltGS47"
      },
      "source": [
        "Ya instanciado, ejecutamos nuestro agente"
      ]
    },
    {
      "cell_type": "code",
      "metadata": {
        "id": "r_Y6EMN3GS47"
      },
      "source": [
        "avg_steps_per_episode, timesteps_ep, reward_ep = run_sarsa()"
      ],
      "execution_count": 76,
      "outputs": []
    },
    {
      "cell_type": "code",
      "metadata": {
        "colab": {
          "base_uri": "https://localhost:8080/",
          "height": 1000
        },
        "id": "SsDunXlHGS47",
        "outputId": "27684236-12a3-4af8-edb2-d8c057637227"
      },
      "source": [
        "plot_reward_per_episode(reward_ep), plot_steps_per_episode(timesteps_ep), plot_steps_per_episode_smooth(timesteps_ep), draw_value_matrix(q)"
      ],
      "execution_count": 77,
      "outputs": [
        {
          "output_type": "display_data",
          "data": {
            "image/png": "[encoded data removed]",
            "text/plain": [
              "<Figure size 432x288 with 1 Axes>"
            ]
          },
          "metadata": {
            "tags": [],
            "needs_background": "light"
          }
        },
        {
          "output_type": "display_data",
          "data": {
            "image/png": "[encoded data removed]",
            "text/plain": [
              "<Figure size 432x288 with 1 Axes>"
            ]
          },
          "metadata": {
            "tags": [],
            "needs_background": "light"
          }
        },
        {
          "output_type": "display_data",
          "data": {
            "image/png": "[encoded data removed]",
            "text/plain": [
              "<Figure size 432x288 with 1 Axes>"
            ]
          },
          "metadata": {
            "tags": [],
            "needs_background": "light"
          }
        },
        {
          "output_type": "display_data",
          "data": {
            "image/png": "[encoded data removed]",
            "text/plain": [
              "<Figure size 432x288 with 2 Axes>"
            ]
          },
          "metadata": {
            "tags": [],
            "needs_background": "light"
          }
        },
        {
          "output_type": "stream",
          "text": [
            "\n",
            " Matriz de mejor acción-valor (en números): \n",
            "\n",
            " [[ -17.23954428  -15.14316652  -13.47940719  -13.86734791  -11.50591433\n",
            "   -10.42824021   -8.92910114   -7.36906975   -6.09772006   -5.02260286\n",
            "    -4.246717     -3.48743802]\n",
            " [ -18.17688817  -16.29163152  -15.09887514  -13.57191616  -12.57200446\n",
            "   -11.46204211  -10.28051994   -8.75636874   -8.02140089   -7.17268501\n",
            "    -5.41325753   -2.24362335]\n",
            " [ -18.16818774  -17.96726471  -16.02741607  -12.12753358  -12.36502775\n",
            "   -11.94064567  -11.56233996  -10.96253903   -9.96154144  -10.28531687\n",
            "    -2.00258599   -1.        ]\n",
            " [ -19.72790699 -100.         -100.         -100.         -100.\n",
            "  -100.         -100.         -100.         -100.         -100.\n",
            "  -100.           -1.        ]]\n"
          ],
          "name": "stdout"
        },
        {
          "output_type": "execute_result",
          "data": {
            "text/plain": [
              "(None, None, None, None)"
            ]
          },
          "metadata": {
            "tags": []
          },
          "execution_count": 77
        }
      ]
    },
    {
      "cell_type": "code",
      "metadata": {
        "id": "ce50gtxcGS4-"
      },
      "source": [
        "env.close()"
      ],
      "execution_count": 78,
      "outputs": []
    },
    {
      "cell_type": "markdown",
      "metadata": {
        "id": "9VQRIwfLGS4-"
      },
      "source": [
        "## 2. Implementar y ejecutar el algoritmo Q-Learning en \"The Cliff\". ¿Cómo converge con respecto a SARSA? ¿A qué se debe? Comentar."
      ]
    },
    {
      "cell_type": "code",
      "metadata": {
        "id": "Le_5sOJ7r70i"
      },
      "source": [
        "def learn_ql(state, action, reward, next_state):\n",
        "    \"\"\"\n",
        "    Performs a Q-LEARNING update for a given state transition\n",
        "    \"\"\"\n",
        "    q_values = [q.get((next_state, a), 0.0) for a in actions]\n",
        "    max_q = max(q_values)\n",
        "    \n",
        "    q[state, action] = q.get((state, action), 0.0) + alpha * ((reward +(gamma * max_q)- q.get((state, action), 0.0)))\n",
        "    \n",
        "    return"
      ],
      "execution_count": 83,
      "outputs": []
    },
    {
      "cell_type": "code",
      "metadata": {
        "id": "Rkw8GqJjxYql"
      },
      "source": [
        "def run_ql():\n",
        "    \"\"\"\n",
        "    Runs the reinforcement learning agent with a given configuration.\n",
        "    \"\"\"\n",
        "    # list that contains the amount of time-steps of the episode. It is used as a way to score the performance of\n",
        "    # the agent.\n",
        "    timesteps_of_episode = []\n",
        "    # list that contains the amount of reward given to the agent in each episode\n",
        "    reward_of_episode = []\n",
        "\n",
        "    for i_episode in range(episodes_to_run):\n",
        "        # an instance of an episode is run until it fails or until it reaches 200 time-steps\n",
        "\n",
        "        # resets the environment, obtaining the first state observation\n",
        "        state = env.reset()\n",
        "\n",
        "        episode_reward = 0\n",
        "        done = False\n",
        "        t = 0\n",
        "\n",
        "        # Pick an action based on the current state\n",
        "        action = choose_action_greedy(state)\n",
        "        \n",
        "        while not done:\n",
        "\n",
        "            # Execute the action and get feedback\n",
        "            next_state, reward, done, info = env.step(action)\n",
        "            \n",
        "            next_action = choose_action_greedy(next_state)\n",
        "\n",
        "            episode_reward += reward\n",
        "\n",
        "            if not done and t < 2000:  # if the algorithm does not converge, it stops after 2000 timesteps\n",
        "                learn_ql(state, action, reward, next_state)\n",
        "                state = next_state\n",
        "                action = next_action\n",
        "            else:\n",
        "                done = True  # done is ensured to be True (in the case the algorithm did not reach convergence)\n",
        "                learn_ql(state, action, reward, next_state)\n",
        "                timesteps_of_episode = np.append(timesteps_of_episode, [int(t + 1)])\n",
        "                reward_of_episode = np.append(reward_of_episode, max(episode_reward, -100))\n",
        "\n",
        "            t += 1\n",
        "\n",
        "    return reward_of_episode.mean(), timesteps_of_episode, reward_of_episode"
      ],
      "execution_count": 84,
      "outputs": []
    },
    {
      "cell_type": "code",
      "metadata": {
        "id": "IgCpeq6pzh7z"
      },
      "source": [
        "q = {}\n",
        "avg_steps_per_episode, timesteps_ep, reward_ep = run_ql()"
      ],
      "execution_count": 86,
      "outputs": []
    },
    {
      "cell_type": "code",
      "metadata": {
        "colab": {
          "base_uri": "https://localhost:8080/",
          "height": 1000
        },
        "id": "Ag0GJIfU0tN7",
        "outputId": "b1633ca4-7319-453d-fbb7-92b4a676d969"
      },
      "source": [
        "plot_reward_per_episode(reward_ep), plot_steps_per_episode(timesteps_ep), plot_steps_per_episode_smooth(timesteps_ep), draw_value_matrix(q)"
      ],
      "execution_count": 87,
      "outputs": [
        {
          "output_type": "display_data",
          "data": {
            "image/png": "[encoded data removed]",
            "text/plain": [
              "<Figure size 432x288 with 1 Axes>"
            ]
          },
          "metadata": {
            "tags": [],
            "needs_background": "light"
          }
        },
        {
          "output_type": "display_data",
          "data": {
            "image/png": "[encoded data removed]",
            "text/plain": [
              "<Figure size 432x288 with 1 Axes>"
            ]
          },
          "metadata": {
            "tags": [],
            "needs_background": "light"
          }
        },
        {
          "output_type": "display_data",
          "data": {
            "image/png": "[encoded data removed]",
            "text/plain": [
              "<Figure size 432x288 with 1 Axes>"
            ]
          },
          "metadata": {
            "tags": [],
            "needs_background": "light"
          }
        },
        {
          "output_type": "display_data",
          "data": {
            "image/png": "[encoded data removed]",
            "text/plain": [
              "<Figure size 432x288 with 2 Axes>"
            ]
          },
          "metadata": {
            "tags": [],
            "needs_background": "light"
          }
        },
        {
          "output_type": "stream",
          "text": [
            "\n",
            " Matriz de mejor acción-valor (en números): \n",
            "\n",
            " [[ -12.36944693  -11.70636145  -10.78213912  -10.04517708   -9.24719629\n",
            "    -8.43321854   -7.55658416   -6.62764458   -5.64634704   -4.79237794\n",
            "    -3.92600916   -2.99859216]\n",
            " [ -12.86576511  -11.98018131  -10.99708688   -9.99934904   -8.99985322\n",
            "    -7.99996408   -6.99998811   -5.99999789   -4.9999998    -3.99999995\n",
            "    -2.99999999   -2.        ]\n",
            " [ -12.          -11.          -10.           -9.           -8.\n",
            "    -7.           -6.           -5.           -4.           -3.\n",
            "    -2.           -1.        ]\n",
            " [ -13.         -100.         -100.         -100.         -100.\n",
            "  -100.         -100.         -100.         -100.         -100.\n",
            "  -100.           -1.        ]]\n"
          ],
          "name": "stdout"
        },
        {
          "output_type": "execute_result",
          "data": {
            "text/plain": [
              "(None, None, None, None)"
            ]
          },
          "metadata": {
            "tags": []
          },
          "execution_count": 87
        }
      ]
    },
    {
      "cell_type": "markdown",
      "metadata": {
        "id": "7Tcd9fMr5SQ-"
      },
      "source": [
        "### CONCLUSIONES\n",
        "1.\n",
        "2.\n",
        "3."
      ]
    },
    {
      "cell_type": "markdown",
      "metadata": {
        "id": "8Losk0E1ryDs"
      },
      "source": [
        "## 3. Ejecutando con distintos híper-parámetros, realizar una breve descripción sobre cómo afectan a la convergencia los distintos valores de $\\alpha$, $\\epsilon$ y $\\gamma$."
      ]
    },
    {
      "cell_type": "code",
      "metadata": {
        "id": "OSi8sqEJr0xW"
      },
      "source": [
        ""
      ],
      "execution_count": null,
      "outputs": []
    },
    {
      "cell_type": "code",
      "metadata": {
        "id": "TKIqDScyr9Jm"
      },
      "source": [
        ""
      ],
      "execution_count": null,
      "outputs": []
    },
    {
      "cell_type": "code",
      "metadata": {
        "id": "NNyNjVpGzhJD"
      },
      "source": [
        ""
      ],
      "execution_count": null,
      "outputs": []
    }
  ]
}